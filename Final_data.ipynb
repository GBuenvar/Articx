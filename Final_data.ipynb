{
 "cells": [
  {
   "cell_type": "code",
   "execution_count": 1,
   "metadata": {},
   "outputs": [],
   "source": [
    "import numpy as np\n",
    "import pandas as pd\n",
    "import matplotlib.pyplot as plt"
   ]
  },
  {
   "cell_type": "code",
   "execution_count": 2,
   "metadata": {},
   "outputs": [
    {
     "data": {
      "text/html": [
       "<div>\n",
       "<style scoped>\n",
       "    .dataframe tbody tr th:only-of-type {\n",
       "        vertical-align: middle;\n",
       "    }\n",
       "\n",
       "    .dataframe tbody tr th {\n",
       "        vertical-align: top;\n",
       "    }\n",
       "\n",
       "    .dataframe thead th {\n",
       "        text-align: right;\n",
       "    }\n",
       "</style>\n",
       "<table border=\"1\" class=\"dataframe\">\n",
       "  <thead>\n",
       "    <tr style=\"text-align: right;\">\n",
       "      <th></th>\n",
       "      <th>Cell Ref.</th>\n",
       "      <th>Independent</th>\n",
       "      <th>Dependent</th>\n",
       "      <th>Main Score</th>\n",
       "      <th>Conservation</th>\n",
       "      <th>Industry</th>\n",
       "    </tr>\n",
       "  </thead>\n",
       "  <tbody>\n",
       "    <tr>\n",
       "      <th>2</th>\n",
       "      <td>B-3</td>\n",
       "      <td>Clouds</td>\n",
       "      <td>Precipitation</td>\n",
       "      <td>(+ -)</td>\n",
       "      <td>(+ -)</td>\n",
       "      <td>(+ -)</td>\n",
       "    </tr>\n",
       "    <tr>\n",
       "      <th>3</th>\n",
       "      <td>B-4</td>\n",
       "      <td>Clouds</td>\n",
       "      <td>Winds/ storms</td>\n",
       "      <td>0</td>\n",
       "      <td>0</td>\n",
       "      <td>0</td>\n",
       "    </tr>\n",
       "    <tr>\n",
       "      <th>4</th>\n",
       "      <td>B-5</td>\n",
       "      <td>Clouds</td>\n",
       "      <td>CO2</td>\n",
       "      <td>0</td>\n",
       "      <td>0</td>\n",
       "      <td>0</td>\n",
       "    </tr>\n",
       "    <tr>\n",
       "      <th>5</th>\n",
       "      <td>B-6</td>\n",
       "      <td>Clouds</td>\n",
       "      <td>DMS</td>\n",
       "      <td>0</td>\n",
       "      <td>0</td>\n",
       "      <td>0</td>\n",
       "    </tr>\n",
       "    <tr>\n",
       "      <th>6</th>\n",
       "      <td>B-7</td>\n",
       "      <td>Clouds</td>\n",
       "      <td>Freshwater</td>\n",
       "      <td>0</td>\n",
       "      <td>0</td>\n",
       "      <td>0</td>\n",
       "    </tr>\n",
       "    <tr>\n",
       "      <th>...</th>\n",
       "      <td>...</td>\n",
       "      <td>...</td>\n",
       "      <td>...</td>\n",
       "      <td>...</td>\n",
       "      <td>...</td>\n",
       "      <td>...</td>\n",
       "    </tr>\n",
       "    <tr>\n",
       "      <th>524</th>\n",
       "      <td>X-19</td>\n",
       "      <td>Pollution</td>\n",
       "      <td>Higher trophic levels</td>\n",
       "      <td>- (-)</td>\n",
       "      <td>- (-)</td>\n",
       "      <td>- (-)</td>\n",
       "    </tr>\n",
       "    <tr>\n",
       "      <th>525</th>\n",
       "      <td>X-20</td>\n",
       "      <td>Pollution</td>\n",
       "      <td>Development</td>\n",
       "      <td>0</td>\n",
       "      <td>0</td>\n",
       "      <td>0</td>\n",
       "    </tr>\n",
       "    <tr>\n",
       "      <th>526</th>\n",
       "      <td>X-21</td>\n",
       "      <td>Pollution</td>\n",
       "      <td>Tourism</td>\n",
       "      <td>-</td>\n",
       "      <td>-</td>\n",
       "      <td>-</td>\n",
       "    </tr>\n",
       "    <tr>\n",
       "      <th>527</th>\n",
       "      <td>X-22</td>\n",
       "      <td>Pollution</td>\n",
       "      <td>Arctic policy and management</td>\n",
       "      <td>+</td>\n",
       "      <td>+</td>\n",
       "      <td>+</td>\n",
       "    </tr>\n",
       "    <tr>\n",
       "      <th>528</th>\n",
       "      <td>X-23</td>\n",
       "      <td>Pollution</td>\n",
       "      <td>Resource extraction</td>\n",
       "      <td>-</td>\n",
       "      <td>-</td>\n",
       "      <td>-</td>\n",
       "    </tr>\n",
       "  </tbody>\n",
       "</table>\n",
       "<p>506 rows × 6 columns</p>\n",
       "</div>"
      ],
      "text/plain": [
       "    Cell Ref. Independent                     Dependent Main Score  \\\n",
       "2         B-3      Clouds                 Precipitation      (+ -)   \n",
       "3         B-4      Clouds                 Winds/ storms          0   \n",
       "4         B-5      Clouds                           CO2          0   \n",
       "5         B-6      Clouds                           DMS          0   \n",
       "6         B-7      Clouds                    Freshwater          0   \n",
       "..        ...         ...                           ...        ...   \n",
       "524      X-19   Pollution         Higher trophic levels      - (-)   \n",
       "525      X-20   Pollution                   Development          0   \n",
       "526      X-21   Pollution                       Tourism          -   \n",
       "527      X-22   Pollution  Arctic policy and management          +   \n",
       "528      X-23   Pollution          Resource extraction           -   \n",
       "\n",
       "    Conservation Industry  \n",
       "2          (+ -)    (+ -)  \n",
       "3              0        0  \n",
       "4              0        0  \n",
       "5              0        0  \n",
       "6              0        0  \n",
       "..           ...      ...  \n",
       "524        - (-)    - (-)  \n",
       "525            0        0  \n",
       "526            -        -  \n",
       "527            +        +  \n",
       "528            -        -  \n",
       "\n",
       "[506 rows x 6 columns]"
      ]
     },
     "execution_count": 2,
     "metadata": {},
     "output_type": "execute_result"
    }
   ],
   "source": [
    "dataset_final = pd.read_csv(\"Matrix_dataset_FINAL.csv\")\n",
    "dataset_final = dataset_final.iloc[1:,:]\n",
    "dataset_final = dataset_final.dropna()\n",
    "dataset_final"
   ]
  },
  {
   "cell_type": "code",
   "execution_count": 3,
   "metadata": {},
   "outputs": [
    {
     "data": {
      "text/plain": [
       "array(['(+ -)', '0', '-', '++ ', '(-)', '+ +', '+', '+ -', '- -', '+ + +',\n",
       "       '(+)', '+ (+)', '- (-)', '+ + - -', '+ + (+)', '- - -', '+ ', '++',\n",
       "       '++ - -', '- '], dtype=object)"
      ]
     },
     "execution_count": 3,
     "metadata": {},
     "output_type": "execute_result"
    }
   ],
   "source": [
    "dataset_final[\"Main Score\"].unique()"
   ]
  },
  {
   "cell_type": "code",
   "execution_count": 8,
   "metadata": {},
   "outputs": [
    {
     "name": "stdout",
     "output_type": "stream",
     "text": [
      "23\n"
     ]
    },
    {
     "data": {
      "text/plain": [
       "array([['0', '-', '0', '0', '+ +', '0', '0', '0', '0', '-', '0', '0',\n",
       "        '-', '0', '0', '0', '0', '0', '0', '0', '0', '0', '(+ -)'],\n",
       "       ['(+ -)', '0', '0', '0', '0', '0', '0', '0', '0', '-', '0', '0',\n",
       "        '+', '0', '0', '0', '0', '0', '0', '0', '0', '0', '0'],\n",
       "       ['0', '0', '0', '0', '0', '0', '0', '0', '0', '-', '0', '0', '0',\n",
       "        '0', '0', '0', '0', '0', '0', '0', '0', '0', '0'],\n",
       "       ['0', '0', '+ -', '0', '0', '0', '0', '0', '0', '+ -', '(+ -)',\n",
       "        '0', '+ +', '- -', '0', '- (-)', '+ +', '0', '+', '0', '0', '+',\n",
       "        '0'],\n",
       "       ['0', '0', '+', '0', '0', '0', '0', '0', '0', '-', '0', '0', '+',\n",
       "        '0', '0', '+ +', '0', '0', '0', '0', '0', '0', '0'],\n",
       "       ['0', '+ +', '0', '0', '0', '0', '0', '0', '0', '-', '0', '0',\n",
       "        '+ + +', '0', '0', '0', '0', '0', '-', '0', '0', '0', '0'],\n",
       "       ['0', '0', '0', '0', '0', '+', '0', '0', '+', '0', '0', '0', '0',\n",
       "        '0', '0', '0', '0', '0', '0', '0', '0', '0', '0'],\n",
       "       ['0', '0', '0', '0', '0', '(+)', '0', '0', '+', '0', '0', '0',\n",
       "        '0', '0', '0', '0', '0', '0', '0', '0', '0', '0', '0'],\n",
       "       ['0', '0', '0', '0', '0', '+', '0', '0', '0', '(+ -)', '0', '0',\n",
       "        '0', '0', '0', '0', '0', '0', '0', '0', '0', '0', '0'],\n",
       "       ['0', '-', '-', '0', '0', '+', '0', '0', '0', '0', '+', '0',\n",
       "        '- - -', '0', '0', '0', '0', '0', '0', '0', '0', '0', '0'],\n",
       "       ['0', '0', '- -', '0', '0', '+ + +', '0', '0', '0', '+', '0', '0',\n",
       "        '+ +', '0', '0', '0', '0', '0', '0', '0', '0', '0', '0'],\n",
       "       ['-', '0', '-', '0', '0', '0', '-', '0', '- (-)', '- -', '0', '0',\n",
       "        '0', '0', '0', '0', '0', '0', '0', '0', '0', '0', '0'],\n",
       "       ['++ ', '0', '+ -', '+ + +', '0', '+', '0', '0', '0', '- -',\n",
       "        '+ +', '0', '0', '0', '0', '0', '0', '0', '0', '0', '0', '0',\n",
       "        '0'],\n",
       "       ['0', '-', '0', '- -', '0', '- -', '0', '0', '0', '(+ -)', '0',\n",
       "        '0', '0', '0', '+ -', '0', '0', '0', '0', '0', '0', '0', '(-)'],\n",
       "       ['0', '0', '0', '0', '0', '0', '0', '(+)', '0', '0', '- -', '0',\n",
       "        '0', '0', '0', '- - -', '0', '0', '0', '0', '0', '0', '0'],\n",
       "       ['0', '0', '0', '+', '0', '-', '0', '(+)', '0', '0', '+ -',\n",
       "        '+ + (+)', '+ ', '0', '+ + (+)', '0', '0', '-', '0', '0', '0',\n",
       "        '0', '- '],\n",
       "       ['0', '0', '0', '0', '0', '0', '+ (+)', '0', '0', '0', '0', '0',\n",
       "        '++', '0', '(+)', '+ + +', '0', '(+)', '0', '0', '0', '0', '0'],\n",
       "       ['0', '0', '0', '0', '0', '0', '0', '0', '(-)', '+ + - -', '0',\n",
       "        '(+ -)', '+ + - -', '+ ', '0', '+ + +', '0', '0', '- (-)', '0',\n",
       "        '0', '- -', '- (-)'],\n",
       "       ['0', '0', '0', '0', '0', '0', '0', '0', '0', '- -', '0', '0',\n",
       "        '0', '0', '0', '0', '0', '0', '0', '+', '++ - -', '+', '0'],\n",
       "       ['(-)', '(-)', '(-)', '0', '0', '0', '0', '0', '0', '- -', '0',\n",
       "        '0', '0', '0', '0', '0', '0', '+', '+', '0', '+ (+)', '0', '-'],\n",
       "       ['0', '0', '0', '0', '0', '0', '0', '0', '0', '0', '0', '0', '0',\n",
       "        '0', '0', '0', '0', '- -', '+ +', '+', '0', '+ +', '+'],\n",
       "       ['0', '0', '0', '0', '0', '0', '0', '0', '0', '- -', '0', '0',\n",
       "        '0', '0', '0', '0', '0', '+ + +', '+', '0', '++ - -', '0', '-'],\n",
       "       ['(+ -)', '+', '+', '0', '0', '(+)', '(+)', '0', '(+)', '0', '0',\n",
       "        '0', '0', '0', '0', '0', '0', '0', '+', '+', '(+ -)', '+', '0']],\n",
       "      dtype='<U21')"
      ]
     },
     "execution_count": 8,
     "metadata": {},
     "output_type": "execute_result"
    }
   ],
   "source": [
    "\n",
    "indep = dataset_final.Independent.unique()\n",
    "n = len(indep)\n",
    "print(n)\n",
    "Matrix = np.zeros((n,n), dtype=int).astype(str)\n",
    "\n",
    "for r, row in dataset_final.iterrows():\n",
    "    Matrix[indep == row.Dependent, indep == row.Independent] = row[\"Main Score\"]\n",
    "Matrix"
   ]
  },
  {
   "cell_type": "code",
   "execution_count": 7,
   "metadata": {},
   "outputs": [
    {
     "data": {
      "text/plain": [
       "array(['Clouds', 'Precipitation', 'Winds/ storms', 'CO2', 'DMS',\n",
       "       'Freshwater', 'Allochthonous organic carbon inputs',\n",
       "       'Allochthonous nutrient inputs', 'Allochthonous sediment inputs',\n",
       "       'Sea ice (extent/ thickness)', 'Stratification', 'Light',\n",
       "       'Temperature', 'pH', 'Nutrients', 'Primary Production',\n",
       "       'Respiration', 'Higher trophic levels', 'Development', 'Tourism',\n",
       "       'Arctic policy and management', 'Resource extraction ',\n",
       "       'Pollution'], dtype=object)"
      ]
     },
     "execution_count": 7,
     "metadata": {},
     "output_type": "execute_result"
    }
   ],
   "source": [
    "indep"
   ]
  },
  {
   "cell_type": "code",
   "execution_count": 9,
   "metadata": {},
   "outputs": [],
   "source": [
    "pd.DataFrame(Matrix).to_csv(\"Final_matrix.csv\", header=False, index=False, sep=\";\")"
   ]
  },
  {
   "cell_type": "code",
   "execution_count": 11,
   "metadata": {},
   "outputs": [
    {
     "name": "stdout",
     "output_type": "stream",
     "text": [
      "usage: matrix_decoder.py [-h] [-p] file\n",
      "\n",
      "Decode a matrix\n",
      "\n",
      "positional arguments:\n",
      "  file                  file containing the matrix to decode, which is\n",
      "                        composed by elements separated by \";\" and lines\n",
      "                        separated by \"\\n\". The matrix elements are composed by\n",
      "                        \"+\" and \"-\" and may contain some of them in\n",
      "                        parenthesis.\n",
      "\n",
      "options:\n",
      "  -h, --help            show this help message and exit\n",
      "  -p, --ignore-parenthesis\n",
      "                        ignore the parenthesis\n"
     ]
    }
   ],
   "source": [
    "!python3 matrix_decoder.py -h"
   ]
  },
  {
   "cell_type": "code",
   "execution_count": 10,
   "metadata": {},
   "outputs": [
    {
     "name": "stdout",
     "output_type": "stream",
     "text": [
      "Reading file: Final_matrix.csv\n",
      "Ignore parenthesis: True\n",
      "File decoded and saved as: Final_matrix_decoded.csv\n"
     ]
    }
   ],
   "source": [
    "# execute the script matrix_decoder.py to get the matrix in a readable format\n",
    "!python3 matrix_decoder.py Final_matrix.csv"
   ]
  }
 ],
 "metadata": {
  "kernelspec": {
   "display_name": "r_env",
   "language": "python",
   "name": "python3"
  },
  "language_info": {
   "codemirror_mode": {
    "name": "ipython",
    "version": 3
   },
   "file_extension": ".py",
   "mimetype": "text/x-python",
   "name": "python",
   "nbconvert_exporter": "python",
   "pygments_lexer": "ipython3",
   "version": "3.10.13"
  }
 },
 "nbformat": 4,
 "nbformat_minor": 2
}
